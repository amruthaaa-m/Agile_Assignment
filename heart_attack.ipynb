{
 "cells": [
  {
   "cell_type": "code",
   "execution_count": 1,
   "metadata": {
    "collapsed": true
   },
   "outputs": [],
   "source": [
    "import numpy as np\n",
    "import matplotlib.pyplot as plt\n",
    "import pandas as pd\n",
    "\n",
    "import warnings\n",
    "warnings.filterwarnings('ignore')"
   ]
  },
  {
   "cell_type": "code",
   "execution_count": 2,
   "outputs": [
    {
     "data": {
      "text/plain": "      age  sex  cp  trestbps  chol  fbs  restecg  thalach  exang  oldpeak  \\\n0      52    1   0       125   212    0        1      168      0      1.0   \n1      53    1   0       140   203    1        0      155      1      3.1   \n2      70    1   0       145   174    0        1      125      1      2.6   \n3      61    1   0       148   203    0        1      161      0      0.0   \n4      62    0   0       138   294    1        1      106      0      1.9   \n...   ...  ...  ..       ...   ...  ...      ...      ...    ...      ...   \n1020   59    1   1       140   221    0        1      164      1      0.0   \n1021   60    1   0       125   258    0        0      141      1      2.8   \n1022   47    1   0       110   275    0        0      118      1      1.0   \n1023   50    0   0       110   254    0        0      159      0      0.0   \n1024   54    1   0       120   188    0        1      113      0      1.4   \n\n      slope  ca  thal  target  \n0         2   2     3       0  \n1         0   0     3       0  \n2         0   0     3       0  \n3         2   1     3       0  \n4         1   3     2       0  \n...     ...  ..   ...     ...  \n1020      2   0     2       1  \n1021      1   1     3       0  \n1022      1   1     2       0  \n1023      2   0     2       1  \n1024      1   1     3       0  \n\n[1025 rows x 14 columns]",
      "text/html": "<div>\n<style scoped>\n    .dataframe tbody tr th:only-of-type {\n        vertical-align: middle;\n    }\n\n    .dataframe tbody tr th {\n        vertical-align: top;\n    }\n\n    .dataframe thead th {\n        text-align: right;\n    }\n</style>\n<table border=\"1\" class=\"dataframe\">\n  <thead>\n    <tr style=\"text-align: right;\">\n      <th></th>\n      <th>age</th>\n      <th>sex</th>\n      <th>cp</th>\n      <th>trestbps</th>\n      <th>chol</th>\n      <th>fbs</th>\n      <th>restecg</th>\n      <th>thalach</th>\n      <th>exang</th>\n      <th>oldpeak</th>\n      <th>slope</th>\n      <th>ca</th>\n      <th>thal</th>\n      <th>target</th>\n    </tr>\n  </thead>\n  <tbody>\n    <tr>\n      <th>0</th>\n      <td>52</td>\n      <td>1</td>\n      <td>0</td>\n      <td>125</td>\n      <td>212</td>\n      <td>0</td>\n      <td>1</td>\n      <td>168</td>\n      <td>0</td>\n      <td>1.0</td>\n      <td>2</td>\n      <td>2</td>\n      <td>3</td>\n      <td>0</td>\n    </tr>\n    <tr>\n      <th>1</th>\n      <td>53</td>\n      <td>1</td>\n      <td>0</td>\n      <td>140</td>\n      <td>203</td>\n      <td>1</td>\n      <td>0</td>\n      <td>155</td>\n      <td>1</td>\n      <td>3.1</td>\n      <td>0</td>\n      <td>0</td>\n      <td>3</td>\n      <td>0</td>\n    </tr>\n    <tr>\n      <th>2</th>\n      <td>70</td>\n      <td>1</td>\n      <td>0</td>\n      <td>145</td>\n      <td>174</td>\n      <td>0</td>\n      <td>1</td>\n      <td>125</td>\n      <td>1</td>\n      <td>2.6</td>\n      <td>0</td>\n      <td>0</td>\n      <td>3</td>\n      <td>0</td>\n    </tr>\n    <tr>\n      <th>3</th>\n      <td>61</td>\n      <td>1</td>\n      <td>0</td>\n      <td>148</td>\n      <td>203</td>\n      <td>0</td>\n      <td>1</td>\n      <td>161</td>\n      <td>0</td>\n      <td>0.0</td>\n      <td>2</td>\n      <td>1</td>\n      <td>3</td>\n      <td>0</td>\n    </tr>\n    <tr>\n      <th>4</th>\n      <td>62</td>\n      <td>0</td>\n      <td>0</td>\n      <td>138</td>\n      <td>294</td>\n      <td>1</td>\n      <td>1</td>\n      <td>106</td>\n      <td>0</td>\n      <td>1.9</td>\n      <td>1</td>\n      <td>3</td>\n      <td>2</td>\n      <td>0</td>\n    </tr>\n    <tr>\n      <th>...</th>\n      <td>...</td>\n      <td>...</td>\n      <td>...</td>\n      <td>...</td>\n      <td>...</td>\n      <td>...</td>\n      <td>...</td>\n      <td>...</td>\n      <td>...</td>\n      <td>...</td>\n      <td>...</td>\n      <td>...</td>\n      <td>...</td>\n      <td>...</td>\n    </tr>\n    <tr>\n      <th>1020</th>\n      <td>59</td>\n      <td>1</td>\n      <td>1</td>\n      <td>140</td>\n      <td>221</td>\n      <td>0</td>\n      <td>1</td>\n      <td>164</td>\n      <td>1</td>\n      <td>0.0</td>\n      <td>2</td>\n      <td>0</td>\n      <td>2</td>\n      <td>1</td>\n    </tr>\n    <tr>\n      <th>1021</th>\n      <td>60</td>\n      <td>1</td>\n      <td>0</td>\n      <td>125</td>\n      <td>258</td>\n      <td>0</td>\n      <td>0</td>\n      <td>141</td>\n      <td>1</td>\n      <td>2.8</td>\n      <td>1</td>\n      <td>1</td>\n      <td>3</td>\n      <td>0</td>\n    </tr>\n    <tr>\n      <th>1022</th>\n      <td>47</td>\n      <td>1</td>\n      <td>0</td>\n      <td>110</td>\n      <td>275</td>\n      <td>0</td>\n      <td>0</td>\n      <td>118</td>\n      <td>1</td>\n      <td>1.0</td>\n      <td>1</td>\n      <td>1</td>\n      <td>2</td>\n      <td>0</td>\n    </tr>\n    <tr>\n      <th>1023</th>\n      <td>50</td>\n      <td>0</td>\n      <td>0</td>\n      <td>110</td>\n      <td>254</td>\n      <td>0</td>\n      <td>0</td>\n      <td>159</td>\n      <td>0</td>\n      <td>0.0</td>\n      <td>2</td>\n      <td>0</td>\n      <td>2</td>\n      <td>1</td>\n    </tr>\n    <tr>\n      <th>1024</th>\n      <td>54</td>\n      <td>1</td>\n      <td>0</td>\n      <td>120</td>\n      <td>188</td>\n      <td>0</td>\n      <td>1</td>\n      <td>113</td>\n      <td>0</td>\n      <td>1.4</td>\n      <td>1</td>\n      <td>1</td>\n      <td>3</td>\n      <td>0</td>\n    </tr>\n  </tbody>\n</table>\n<p>1025 rows × 14 columns</p>\n</div>"
     },
     "execution_count": 2,
     "metadata": {},
     "output_type": "execute_result"
    }
   ],
   "source": [
    "df=pd.read_csv(\"heart.csv\")\n",
    "x=df.drop(\"target\",axis=1)\n",
    "y=df['target']\n",
    "df"
   ],
   "metadata": {
    "collapsed": false
   }
  },
  {
   "cell_type": "code",
   "execution_count": 5,
   "outputs": [],
   "source": [
    "Age=int(input(\"Enter Age:\"))\n",
    "Gender=int(input(\"Enter Gender:(1 for male, 0 for female):\"))\n",
    "CP=int(input(\"Chest Pain level(0-3):\"))\n",
    "BP=int(input(\"Enter Resting Blood pressure:\"))\n",
    "Chol=int(input(\"Enter Cholesterol level:\"))\n",
    "Sugar=int(input(\"High Blood Sugar level? (1 for yes, 0 for no):\"))\n",
    "Restecg=int(input(\"Positvie resting electrocardiographic result? (1 for yes, 0 for no):\"))\n",
    "Thalach=int(input(\"Enter Maximum Heart Rate achieved:\"))\n",
    "Exang=int(input(\"Positive exercise induced angina level? (1 for yes, 0 for no):\"))\n",
    "Oldpeak=float(input(\"Enter the Depression induced in ECG peak:\"))   # electrocardiogram\n",
    "Slope=int(input(\"Enter slope of Increment in HeartRate from ECG:\"))\n",
    "CA=int(input(\"Enter number of Major Vessels colored by flourosopy(0-3):\"))\n",
    "Thal=int(input(\"Enter number of Thalassemia locations(0-3):\"))\n",
    "\n",
    "\n",
    "Patient_Data=[Age,Gender,CP,BP,Chol,Sugar,Restecg,Thalach,Exang,Oldpeak,Slope,CA,Thal]"
   ],
   "metadata": {
    "collapsed": false
   }
  },
  {
   "cell_type": "code",
   "execution_count": 4,
   "outputs": [],
   "source": [
    "# Patient_Data=[50,1,2,123,300,1,0,145,1,3.7,0,1,1]"
   ],
   "metadata": {
    "collapsed": false
   }
  },
  {
   "cell_type": "markdown",
   "source": [
    "-----------\n",
    "### Decision Tree"
   ],
   "metadata": {
    "collapsed": false
   }
  },
  {
   "cell_type": "code",
   "execution_count": 6,
   "outputs": [
    {
     "name": "stdout",
     "output_type": "stream",
     "text": [
      "The prediction made by Decision Tree is:\n"
     ]
    },
    {
     "data": {
      "text/plain": "1"
     },
     "execution_count": 6,
     "metadata": {},
     "output_type": "execute_result"
    }
   ],
   "source": [
    "from sklearn.tree import DecisionTreeClassifier\n",
    "tree_classifier = DecisionTreeClassifier(criterion = 'entropy', random_state = 0)\n",
    "tree_classifier.fit(x,y)\n",
    "tree_pred=tree_classifier.predict([Patient_Data])\n",
    "print(\"The prediction made by Decision Tree is:\")\n",
    "tree_pred[0]"
   ],
   "metadata": {
    "collapsed": false
   }
  },
  {
   "cell_type": "markdown",
   "source": [
    "### Random Forest"
   ],
   "metadata": {
    "collapsed": false
   }
  },
  {
   "cell_type": "code",
   "execution_count": 7,
   "outputs": [
    {
     "name": "stdout",
     "output_type": "stream",
     "text": [
      "The prediction by Random Forest is:\n"
     ]
    },
    {
     "data": {
      "text/plain": "0.73"
     },
     "execution_count": 7,
     "metadata": {},
     "output_type": "execute_result"
    }
   ],
   "source": [
    "from sklearn.ensemble import RandomForestRegressor\n",
    "ranForClassifier = RandomForestRegressor()\n",
    "ranForClassifier.fit(x,y)\n",
    "ranfor_pred=ranForClassifier.predict([Patient_Data])\n",
    "print(\"The prediction by Random Forest is:\")\n",
    "ranfor_pred[0]"
   ],
   "metadata": {
    "collapsed": false
   }
  },
  {
   "cell_type": "markdown",
   "source": [
    "### Logistic Regression"
   ],
   "metadata": {
    "collapsed": false
   }
  },
  {
   "cell_type": "code",
   "execution_count": 8,
   "outputs": [
    {
     "name": "stdout",
     "output_type": "stream",
     "text": [
      "The prediction made by Logistic Regression is:\n"
     ]
    },
    {
     "data": {
      "text/plain": "1"
     },
     "execution_count": 8,
     "metadata": {},
     "output_type": "execute_result"
    }
   ],
   "source": [
    "from sklearn.linear_model import LogisticRegression\n",
    "reg_classifier = LogisticRegression()\n",
    "reg_classifier.fit(x,y)\n",
    "reg_pred = reg_classifier.predict([Patient_Data])\n",
    "print(\"The prediction made by Logistic Regression is:\")\n",
    "reg_pred[0]"
   ],
   "metadata": {
    "collapsed": false
   }
  },
  {
   "cell_type": "markdown",
   "source": [
    "### K-Nearest Neighbours"
   ],
   "metadata": {
    "collapsed": false
   }
  },
  {
   "cell_type": "code",
   "execution_count": 9,
   "outputs": [
    {
     "name": "stdout",
     "output_type": "stream",
     "text": [
      "The prediction made by KNN is:\n"
     ]
    },
    {
     "data": {
      "text/plain": "0"
     },
     "execution_count": 9,
     "metadata": {},
     "output_type": "execute_result"
    }
   ],
   "source": [
    "from sklearn.neighbors import KNeighborsClassifier\n",
    "knn_classifier= KNeighborsClassifier(n_neighbors=5, metric='minkowski', p=2 )\n",
    "knn_classifier.fit(x,y)\n",
    "knn_pred=knn_classifier.predict([Patient_Data])\n",
    "print(\"The prediction made by KNN is:\")\n",
    "knn_pred[0]"
   ],
   "metadata": {
    "collapsed": false
   }
  },
  {
   "cell_type": "markdown",
   "source": [
    "### Naive Bayes"
   ],
   "metadata": {
    "collapsed": false
   }
  },
  {
   "cell_type": "code",
   "execution_count": 10,
   "outputs": [
    {
     "name": "stdout",
     "output_type": "stream",
     "text": [
      "The prediction made by Naive Bayes is:\n"
     ]
    },
    {
     "data": {
      "text/plain": "1"
     },
     "execution_count": 10,
     "metadata": {},
     "output_type": "execute_result"
    }
   ],
   "source": [
    "from sklearn.naive_bayes import GaussianNB\n",
    "guass_model=GaussianNB()\n",
    "guass_model.fit(x,y)\n",
    "naive_pred=guass_model.predict([Patient_Data])\n",
    "print(\"The prediction made by Naive Bayes is:\")\n",
    "naive_pred[0]"
   ],
   "metadata": {
    "collapsed": false
   }
  },
  {
   "cell_type": "markdown",
   "source": [
    "### Support Vector Machine"
   ],
   "metadata": {
    "collapsed": false
   }
  },
  {
   "cell_type": "code",
   "execution_count": 11,
   "outputs": [
    {
     "name": "stdout",
     "output_type": "stream",
     "text": [
      "The prediction made by SVM is:\n"
     ]
    },
    {
     "data": {
      "text/plain": "1"
     },
     "execution_count": 11,
     "metadata": {},
     "output_type": "execute_result"
    }
   ],
   "source": [
    "from sklearn.svm import SVC\n",
    "\n",
    "svm_classifier = SVC(kernel = 'linear', random_state = 0)\n",
    "svm_classifier.fit(x,y)\n",
    "svm_pred=svm_classifier.predict([Patient_Data])\n",
    "print(\"The prediction made by SVM is:\")\n",
    "svm_pred[0]"
   ],
   "metadata": {
    "collapsed": false
   }
  },
  {
   "cell_type": "markdown",
   "source": [
    "--------\n",
    "### Deep Learning: Neural Network Classification"
   ],
   "metadata": {
    "collapsed": false
   }
  },
  {
   "cell_type": "code",
   "execution_count": 12,
   "outputs": [],
   "source": [
    "from sklearn.model_selection import train_test_split\n",
    "import keras\n",
    "from keras.models import Sequential\n",
    "from keras.layers import Dense\n",
    "from keras.utils import to_categorical"
   ],
   "metadata": {
    "collapsed": false
   }
  },
  {
   "cell_type": "code",
   "execution_count": 13,
   "outputs": [],
   "source": [
    "x_train,x_test,y_train,y_test = train_test_split(x,y,test_size=0.25,random_state=42)\n",
    "model = Sequential()\n",
    "model.add(Dense(500, activation='relu', input_dim=13))\n",
    "model.add(Dense(100, activation='relu'))\n",
    "model.add(Dense(50, activation='relu'))\n",
    "model.add(Dense(1, activation='sigmoid'))"
   ],
   "metadata": {
    "collapsed": false
   }
  },
  {
   "cell_type": "code",
   "execution_count": 14,
   "outputs": [],
   "source": [
    "y_test.index=[i for i in range(len(y_test))]"
   ],
   "metadata": {
    "collapsed": false
   }
  },
  {
   "cell_type": "code",
   "execution_count": 15,
   "outputs": [
    {
     "name": "stdout",
     "output_type": "stream",
     "text": [
      "Epoch 1/100\n",
      "24/24 [==============================] - 2s 7ms/step - loss: 4.2785 - accuracy: 0.5117\n",
      "Epoch 2/100\n",
      "24/24 [==============================] - 0s 7ms/step - loss: 0.8439 - accuracy: 0.6510\n",
      "Epoch 3/100\n",
      "24/24 [==============================] - 0s 8ms/step - loss: 0.6304 - accuracy: 0.6706\n",
      "Epoch 4/100\n",
      "24/24 [==============================] - 0s 11ms/step - loss: 0.5619 - accuracy: 0.7109\n",
      "Epoch 5/100\n",
      "24/24 [==============================] - 0s 9ms/step - loss: 0.5821 - accuracy: 0.6836\n",
      "Epoch 6/100\n",
      "24/24 [==============================] - 0s 8ms/step - loss: 0.6702 - accuracy: 0.6706\n",
      "Epoch 7/100\n",
      "24/24 [==============================] - 0s 9ms/step - loss: 0.6007 - accuracy: 0.6966\n",
      "Epoch 8/100\n",
      "24/24 [==============================] - 0s 9ms/step - loss: 0.4815 - accuracy: 0.7591\n",
      "Epoch 9/100\n",
      "24/24 [==============================] - 0s 11ms/step - loss: 0.5868 - accuracy: 0.6992\n",
      "Epoch 10/100\n",
      "24/24 [==============================] - 0s 10ms/step - loss: 0.5233 - accuracy: 0.7409\n",
      "Epoch 11/100\n",
      "24/24 [==============================] - 0s 10ms/step - loss: 0.4287 - accuracy: 0.7943\n",
      "Epoch 12/100\n",
      "24/24 [==============================] - 0s 9ms/step - loss: 0.4002 - accuracy: 0.8229\n",
      "Epoch 13/100\n",
      "24/24 [==============================] - 0s 8ms/step - loss: 0.4119 - accuracy: 0.8034\n",
      "Epoch 14/100\n",
      "24/24 [==============================] - 0s 9ms/step - loss: 0.4072 - accuracy: 0.8034\n",
      "Epoch 15/100\n",
      "24/24 [==============================] - 0s 7ms/step - loss: 0.4631 - accuracy: 0.7799\n",
      "Epoch 16/100\n",
      "24/24 [==============================] - 0s 7ms/step - loss: 0.3883 - accuracy: 0.8255\n",
      "Epoch 17/100\n",
      "24/24 [==============================] - 0s 7ms/step - loss: 0.3834 - accuracy: 0.8255\n",
      "Epoch 18/100\n",
      "24/24 [==============================] - 0s 8ms/step - loss: 0.4043 - accuracy: 0.8320\n",
      "Epoch 19/100\n",
      "24/24 [==============================] - 0s 7ms/step - loss: 0.3988 - accuracy: 0.8151\n",
      "Epoch 20/100\n",
      "24/24 [==============================] - 0s 7ms/step - loss: 0.3701 - accuracy: 0.8424\n",
      "Epoch 21/100\n",
      "24/24 [==============================] - 0s 8ms/step - loss: 0.4549 - accuracy: 0.7917\n",
      "Epoch 22/100\n",
      "24/24 [==============================] - 0s 8ms/step - loss: 0.3855 - accuracy: 0.8255\n",
      "Epoch 23/100\n",
      "24/24 [==============================] - 0s 9ms/step - loss: 0.3525 - accuracy: 0.8464\n",
      "Epoch 24/100\n",
      "24/24 [==============================] - 0s 7ms/step - loss: 0.3491 - accuracy: 0.8607\n",
      "Epoch 25/100\n",
      "24/24 [==============================] - 0s 10ms/step - loss: 0.4041 - accuracy: 0.8151\n",
      "Epoch 26/100\n",
      "24/24 [==============================] - 0s 19ms/step - loss: 0.3612 - accuracy: 0.8424\n",
      "Epoch 27/100\n",
      "24/24 [==============================] - 0s 11ms/step - loss: 0.3868 - accuracy: 0.8268\n",
      "Epoch 28/100\n",
      "24/24 [==============================] - 0s 9ms/step - loss: 0.3681 - accuracy: 0.8385\n",
      "Epoch 29/100\n",
      "24/24 [==============================] - 0s 9ms/step - loss: 0.3501 - accuracy: 0.8503\n",
      "Epoch 30/100\n",
      "24/24 [==============================] - 0s 9ms/step - loss: 0.3532 - accuracy: 0.8490\n",
      "Epoch 31/100\n",
      "24/24 [==============================] - 0s 7ms/step - loss: 0.3425 - accuracy: 0.8516\n",
      "Epoch 32/100\n",
      "24/24 [==============================] - 0s 8ms/step - loss: 0.3969 - accuracy: 0.8203\n",
      "Epoch 33/100\n",
      "24/24 [==============================] - 0s 6ms/step - loss: 0.4667 - accuracy: 0.7943\n",
      "Epoch 34/100\n",
      "24/24 [==============================] - 0s 7ms/step - loss: 0.4002 - accuracy: 0.8203\n",
      "Epoch 35/100\n",
      "24/24 [==============================] - 0s 11ms/step - loss: 0.5023 - accuracy: 0.7786\n",
      "Epoch 36/100\n",
      "24/24 [==============================] - 0s 7ms/step - loss: 0.4089 - accuracy: 0.7982\n",
      "Epoch 37/100\n",
      "24/24 [==============================] - 0s 8ms/step - loss: 0.3540 - accuracy: 0.8516\n",
      "Epoch 38/100\n",
      "24/24 [==============================] - 0s 7ms/step - loss: 0.3345 - accuracy: 0.8698\n",
      "Epoch 39/100\n",
      "24/24 [==============================] - 0s 7ms/step - loss: 0.3454 - accuracy: 0.8516\n",
      "Epoch 40/100\n",
      "24/24 [==============================] - 0s 7ms/step - loss: 0.3583 - accuracy: 0.8542\n",
      "Epoch 41/100\n",
      "24/24 [==============================] - 0s 6ms/step - loss: 0.3576 - accuracy: 0.8529\n",
      "Epoch 42/100\n",
      "24/24 [==============================] - 0s 8ms/step - loss: 0.3339 - accuracy: 0.8581\n",
      "Epoch 43/100\n",
      "24/24 [==============================] - 0s 8ms/step - loss: 0.3447 - accuracy: 0.8542\n",
      "Epoch 44/100\n",
      "24/24 [==============================] - 0s 6ms/step - loss: 0.3824 - accuracy: 0.8268\n",
      "Epoch 45/100\n",
      "24/24 [==============================] - 0s 8ms/step - loss: 0.3516 - accuracy: 0.8529\n",
      "Epoch 46/100\n",
      "24/24 [==============================] - 0s 16ms/step - loss: 0.3645 - accuracy: 0.8294\n",
      "Epoch 47/100\n",
      "24/24 [==============================] - 0s 11ms/step - loss: 0.3802 - accuracy: 0.8346\n",
      "Epoch 48/100\n",
      "24/24 [==============================] - 0s 11ms/step - loss: 0.3305 - accuracy: 0.8633\n",
      "Epoch 49/100\n",
      "24/24 [==============================] - 0s 10ms/step - loss: 0.3393 - accuracy: 0.8555\n",
      "Epoch 50/100\n",
      "24/24 [==============================] - 0s 9ms/step - loss: 0.3236 - accuracy: 0.8633\n",
      "Epoch 51/100\n",
      "24/24 [==============================] - 0s 9ms/step - loss: 0.3228 - accuracy: 0.8659\n",
      "Epoch 52/100\n",
      "24/24 [==============================] - 0s 8ms/step - loss: 0.3232 - accuracy: 0.8698\n",
      "Epoch 53/100\n",
      "24/24 [==============================] - 0s 11ms/step - loss: 0.4038 - accuracy: 0.8203\n",
      "Epoch 54/100\n",
      "24/24 [==============================] - 0s 8ms/step - loss: 0.3879 - accuracy: 0.8177\n",
      "Epoch 55/100\n",
      "24/24 [==============================] - 0s 8ms/step - loss: 0.3386 - accuracy: 0.8607\n",
      "Epoch 56/100\n",
      "24/24 [==============================] - 0s 10ms/step - loss: 0.3157 - accuracy: 0.8672\n",
      "Epoch 57/100\n",
      "24/24 [==============================] - 0s 14ms/step - loss: 0.3437 - accuracy: 0.8477\n",
      "Epoch 58/100\n",
      "24/24 [==============================] - 0s 8ms/step - loss: 0.3301 - accuracy: 0.8698\n",
      "Epoch 59/100\n",
      "24/24 [==============================] - 0s 8ms/step - loss: 0.3146 - accuracy: 0.8776\n",
      "Epoch 60/100\n",
      "24/24 [==============================] - 0s 8ms/step - loss: 0.3646 - accuracy: 0.8451\n",
      "Epoch 61/100\n",
      "24/24 [==============================] - 0s 9ms/step - loss: 0.4673 - accuracy: 0.7799\n",
      "Epoch 62/100\n",
      "24/24 [==============================] - 0s 9ms/step - loss: 0.3794 - accuracy: 0.8281\n",
      "Epoch 63/100\n",
      "24/24 [==============================] - 0s 12ms/step - loss: 0.3296 - accuracy: 0.8607\n",
      "Epoch 64/100\n",
      "24/24 [==============================] - 0s 9ms/step - loss: 0.3919 - accuracy: 0.8333\n",
      "Epoch 65/100\n",
      "24/24 [==============================] - 0s 7ms/step - loss: 0.3348 - accuracy: 0.8581\n",
      "Epoch 66/100\n",
      "24/24 [==============================] - 0s 9ms/step - loss: 0.3638 - accuracy: 0.8346\n",
      "Epoch 67/100\n",
      "24/24 [==============================] - 0s 10ms/step - loss: 0.3232 - accuracy: 0.8542\n",
      "Epoch 68/100\n",
      "24/24 [==============================] - 0s 6ms/step - loss: 0.3112 - accuracy: 0.8659\n",
      "Epoch 69/100\n",
      "24/24 [==============================] - 0s 6ms/step - loss: 0.3071 - accuracy: 0.8789\n",
      "Epoch 70/100\n",
      "24/24 [==============================] - 0s 6ms/step - loss: 0.3262 - accuracy: 0.8542\n",
      "Epoch 71/100\n",
      "24/24 [==============================] - 0s 10ms/step - loss: 0.3226 - accuracy: 0.8659\n",
      "Epoch 72/100\n",
      "24/24 [==============================] - 0s 10ms/step - loss: 0.3518 - accuracy: 0.8490\n",
      "Epoch 73/100\n",
      "24/24 [==============================] - 0s 14ms/step - loss: 0.3292 - accuracy: 0.8698\n",
      "Epoch 74/100\n",
      "24/24 [==============================] - 0s 10ms/step - loss: 0.3479 - accuracy: 0.8451\n",
      "Epoch 75/100\n",
      "24/24 [==============================] - 0s 11ms/step - loss: 0.3220 - accuracy: 0.8711\n",
      "Epoch 76/100\n",
      "24/24 [==============================] - 0s 8ms/step - loss: 0.3486 - accuracy: 0.8451\n",
      "Epoch 77/100\n",
      "24/24 [==============================] - 0s 11ms/step - loss: 0.3109 - accuracy: 0.8750\n",
      "Epoch 78/100\n",
      "24/24 [==============================] - 0s 7ms/step - loss: 0.3228 - accuracy: 0.8646\n",
      "Epoch 79/100\n",
      "24/24 [==============================] - 0s 6ms/step - loss: 0.3714 - accuracy: 0.8268\n",
      "Epoch 80/100\n",
      "24/24 [==============================] - 0s 6ms/step - loss: 0.3045 - accuracy: 0.8763\n",
      "Epoch 81/100\n",
      "24/24 [==============================] - 0s 7ms/step - loss: 0.3197 - accuracy: 0.8698\n",
      "Epoch 82/100\n",
      "24/24 [==============================] - 0s 8ms/step - loss: 0.3170 - accuracy: 0.8659\n",
      "Epoch 83/100\n",
      "24/24 [==============================] - 0s 8ms/step - loss: 0.3493 - accuracy: 0.8411\n",
      "Epoch 84/100\n",
      "24/24 [==============================] - 0s 8ms/step - loss: 0.3392 - accuracy: 0.8477\n",
      "Epoch 85/100\n",
      "24/24 [==============================] - 0s 7ms/step - loss: 0.3104 - accuracy: 0.8802\n",
      "Epoch 86/100\n",
      "24/24 [==============================] - 0s 7ms/step - loss: 0.2921 - accuracy: 0.8802\n",
      "Epoch 87/100\n",
      "24/24 [==============================] - 0s 8ms/step - loss: 0.3398 - accuracy: 0.8542\n",
      "Epoch 88/100\n",
      "24/24 [==============================] - 0s 7ms/step - loss: 0.3141 - accuracy: 0.8698\n",
      "Epoch 89/100\n",
      "24/24 [==============================] - 0s 8ms/step - loss: 0.3045 - accuracy: 0.8633\n",
      "Epoch 90/100\n",
      "24/24 [==============================] - 0s 8ms/step - loss: 0.3311 - accuracy: 0.8646\n",
      "Epoch 91/100\n",
      "24/24 [==============================] - 0s 7ms/step - loss: 0.3300 - accuracy: 0.8594\n",
      "Epoch 92/100\n",
      "24/24 [==============================] - 0s 8ms/step - loss: 0.2950 - accuracy: 0.8750\n",
      "Epoch 93/100\n",
      "24/24 [==============================] - 0s 9ms/step - loss: 0.2930 - accuracy: 0.8776\n",
      "Epoch 94/100\n",
      "24/24 [==============================] - 0s 7ms/step - loss: 0.3252 - accuracy: 0.8451\n",
      "Epoch 95/100\n",
      "24/24 [==============================] - 0s 6ms/step - loss: 0.3916 - accuracy: 0.8216\n",
      "Epoch 96/100\n",
      "24/24 [==============================] - 0s 6ms/step - loss: 0.3848 - accuracy: 0.8216\n",
      "Epoch 97/100\n",
      "24/24 [==============================] - 0s 7ms/step - loss: 0.4093 - accuracy: 0.8203\n",
      "Epoch 98/100\n",
      "24/24 [==============================] - 0s 8ms/step - loss: 0.3581 - accuracy: 0.8438\n",
      "Epoch 99/100\n",
      "24/24 [==============================] - 0s 6ms/step - loss: 0.3707 - accuracy: 0.8333\n",
      "Epoch 100/100\n",
      "24/24 [==============================] - 0s 6ms/step - loss: 0.3191 - accuracy: 0.8646\n"
     ]
    },
    {
     "data": {
      "text/plain": "<keras.src.callbacks.History at 0x1ec37dd6f10>"
     },
     "execution_count": 15,
     "metadata": {},
     "output_type": "execute_result"
    }
   ],
   "source": [
    "model.compile(optimizer='adam',\n",
    "              loss='binary_crossentropy',\n",
    "              metrics=['accuracy'])\n",
    "model.fit(x_train,y_train, epochs=100)"
   ],
   "metadata": {
    "collapsed": false
   }
  },
  {
   "cell_type": "code",
   "execution_count": 16,
   "outputs": [
    {
     "name": "stdout",
     "output_type": "stream",
     "text": [
      "9/9 [==============================] - 2s 6ms/step\n"
     ]
    },
    {
     "data": {
      "text/plain": "            0  res\n0    0.966945    1\n1    0.972747    1\n2    0.030402    0\n3    0.959829    1\n4    0.059448    0\n..        ...  ...\n252  0.542588    0\n253  0.000347    0\n254  0.150735    0\n255  0.958009    1\n256  0.026361    0\n\n[257 rows x 2 columns]",
      "text/html": "<div>\n<style scoped>\n    .dataframe tbody tr th:only-of-type {\n        vertical-align: middle;\n    }\n\n    .dataframe tbody tr th {\n        vertical-align: top;\n    }\n\n    .dataframe thead th {\n        text-align: right;\n    }\n</style>\n<table border=\"1\" class=\"dataframe\">\n  <thead>\n    <tr style=\"text-align: right;\">\n      <th></th>\n      <th>0</th>\n      <th>res</th>\n    </tr>\n  </thead>\n  <tbody>\n    <tr>\n      <th>0</th>\n      <td>0.966945</td>\n      <td>1</td>\n    </tr>\n    <tr>\n      <th>1</th>\n      <td>0.972747</td>\n      <td>1</td>\n    </tr>\n    <tr>\n      <th>2</th>\n      <td>0.030402</td>\n      <td>0</td>\n    </tr>\n    <tr>\n      <th>3</th>\n      <td>0.959829</td>\n      <td>1</td>\n    </tr>\n    <tr>\n      <th>4</th>\n      <td>0.059448</td>\n      <td>0</td>\n    </tr>\n    <tr>\n      <th>...</th>\n      <td>...</td>\n      <td>...</td>\n    </tr>\n    <tr>\n      <th>252</th>\n      <td>0.542588</td>\n      <td>0</td>\n    </tr>\n    <tr>\n      <th>253</th>\n      <td>0.000347</td>\n      <td>0</td>\n    </tr>\n    <tr>\n      <th>254</th>\n      <td>0.150735</td>\n      <td>0</td>\n    </tr>\n    <tr>\n      <th>255</th>\n      <td>0.958009</td>\n      <td>1</td>\n    </tr>\n    <tr>\n      <th>256</th>\n      <td>0.026361</td>\n      <td>0</td>\n    </tr>\n  </tbody>\n</table>\n<p>257 rows × 2 columns</p>\n</div>"
     },
     "execution_count": 16,
     "metadata": {},
     "output_type": "execute_result"
    }
   ],
   "source": [
    "mo=model.predict(x_test)\n",
    "df=pd.DataFrame(mo)\n",
    "df['res']=y_test\n",
    "df"
   ],
   "metadata": {
    "collapsed": false
   }
  },
  {
   "cell_type": "code",
   "execution_count": 17,
   "outputs": [
    {
     "name": "stdout",
     "output_type": "stream",
     "text": [
      "Epoch 1/100\n",
      "33/33 [==============================] - 4s 9ms/step - loss: 0.4156 - accuracy: 0.8137\n",
      "Epoch 2/100\n",
      "33/33 [==============================] - 0s 8ms/step - loss: 0.3466 - accuracy: 0.8488\n",
      "Epoch 3/100\n",
      "33/33 [==============================] - 0s 7ms/step - loss: 0.3407 - accuracy: 0.8576\n",
      "Epoch 4/100\n",
      "33/33 [==============================] - 0s 8ms/step - loss: 0.3305 - accuracy: 0.8498\n",
      "Epoch 5/100\n",
      "33/33 [==============================] - 0s 11ms/step - loss: 0.3443 - accuracy: 0.8400\n",
      "Epoch 6/100\n",
      "33/33 [==============================] - 0s 9ms/step - loss: 0.4451 - accuracy: 0.7795\n",
      "Epoch 7/100\n",
      "33/33 [==============================] - 0s 7ms/step - loss: 0.5616 - accuracy: 0.7620\n",
      "Epoch 8/100\n",
      "33/33 [==============================] - 0s 9ms/step - loss: 0.4399 - accuracy: 0.7951\n",
      "Epoch 9/100\n",
      "33/33 [==============================] - 0s 10ms/step - loss: 0.3443 - accuracy: 0.8507\n",
      "Epoch 10/100\n",
      "33/33 [==============================] - 0s 8ms/step - loss: 0.3499 - accuracy: 0.8283\n",
      "Epoch 11/100\n",
      "33/33 [==============================] - 0s 7ms/step - loss: 0.3443 - accuracy: 0.8498\n",
      "Epoch 12/100\n",
      "33/33 [==============================] - 0s 8ms/step - loss: 0.3405 - accuracy: 0.8439\n",
      "Epoch 13/100\n",
      "33/33 [==============================] - 0s 11ms/step - loss: 0.3594 - accuracy: 0.8341\n",
      "Epoch 14/100\n",
      "33/33 [==============================] - 0s 8ms/step - loss: 0.3325 - accuracy: 0.8420\n",
      "Epoch 15/100\n",
      "33/33 [==============================] - 0s 8ms/step - loss: 0.3338 - accuracy: 0.8439\n",
      "Epoch 16/100\n",
      "33/33 [==============================] - 0s 10ms/step - loss: 0.3369 - accuracy: 0.8439\n",
      "Epoch 17/100\n",
      "33/33 [==============================] - 0s 7ms/step - loss: 0.3372 - accuracy: 0.8488\n",
      "Epoch 18/100\n",
      "33/33 [==============================] - 0s 7ms/step - loss: 0.4128 - accuracy: 0.8254\n",
      "Epoch 19/100\n",
      "33/33 [==============================] - 0s 8ms/step - loss: 0.3469 - accuracy: 0.8449\n",
      "Epoch 20/100\n",
      "33/33 [==============================] - 0s 8ms/step - loss: 0.3694 - accuracy: 0.8244\n",
      "Epoch 21/100\n",
      "33/33 [==============================] - 0s 8ms/step - loss: 0.4055 - accuracy: 0.8156\n",
      "Epoch 22/100\n",
      "33/33 [==============================] - 0s 7ms/step - loss: 0.4881 - accuracy: 0.7629\n",
      "Epoch 23/100\n",
      "33/33 [==============================] - 0s 6ms/step - loss: 0.3392 - accuracy: 0.8478\n",
      "Epoch 24/100\n",
      "33/33 [==============================] - 0s 7ms/step - loss: 0.3690 - accuracy: 0.8361\n",
      "Epoch 25/100\n",
      "33/33 [==============================] - 0s 8ms/step - loss: 0.3238 - accuracy: 0.8517\n",
      "Epoch 26/100\n",
      "33/33 [==============================] - 0s 7ms/step - loss: 0.3764 - accuracy: 0.8244\n",
      "Epoch 27/100\n",
      "33/33 [==============================] - 0s 7ms/step - loss: 0.3305 - accuracy: 0.8478\n",
      "Epoch 28/100\n",
      "33/33 [==============================] - 0s 9ms/step - loss: 0.3493 - accuracy: 0.8527\n",
      "Epoch 29/100\n",
      "33/33 [==============================] - 0s 7ms/step - loss: 0.3211 - accuracy: 0.8585\n",
      "Epoch 30/100\n",
      "33/33 [==============================] - 0s 9ms/step - loss: 0.3150 - accuracy: 0.8556\n",
      "Epoch 31/100\n",
      "33/33 [==============================] - 0s 7ms/step - loss: 0.3297 - accuracy: 0.8595\n",
      "Epoch 32/100\n",
      "33/33 [==============================] - 0s 8ms/step - loss: 0.3116 - accuracy: 0.8556\n",
      "Epoch 33/100\n",
      "33/33 [==============================] - 0s 6ms/step - loss: 0.3098 - accuracy: 0.8644\n",
      "Epoch 34/100\n",
      "33/33 [==============================] - 0s 6ms/step - loss: 0.3037 - accuracy: 0.8605\n",
      "Epoch 35/100\n",
      "33/33 [==============================] - 0s 5ms/step - loss: 0.3043 - accuracy: 0.8654\n",
      "Epoch 36/100\n",
      "33/33 [==============================] - 0s 8ms/step - loss: 0.3137 - accuracy: 0.8663\n",
      "Epoch 37/100\n",
      "33/33 [==============================] - 0s 6ms/step - loss: 0.3163 - accuracy: 0.8566\n",
      "Epoch 38/100\n",
      "33/33 [==============================] - 0s 7ms/step - loss: 0.3227 - accuracy: 0.8468\n",
      "Epoch 39/100\n",
      "33/33 [==============================] - 0s 11ms/step - loss: 0.3067 - accuracy: 0.8615\n",
      "Epoch 40/100\n",
      "33/33 [==============================] - 0s 11ms/step - loss: 0.5159 - accuracy: 0.7688\n",
      "Epoch 41/100\n",
      "33/33 [==============================] - 0s 8ms/step - loss: 0.4011 - accuracy: 0.8176\n",
      "Epoch 42/100\n",
      "33/33 [==============================] - 0s 9ms/step - loss: 0.3260 - accuracy: 0.8576\n",
      "Epoch 43/100\n",
      "33/33 [==============================] - 0s 8ms/step - loss: 0.3370 - accuracy: 0.8507\n",
      "Epoch 44/100\n",
      "33/33 [==============================] - 0s 7ms/step - loss: 0.3765 - accuracy: 0.8283\n",
      "Epoch 45/100\n",
      "33/33 [==============================] - 0s 9ms/step - loss: 0.3154 - accuracy: 0.8644\n",
      "Epoch 46/100\n",
      "33/33 [==============================] - 0s 10ms/step - loss: 0.3761 - accuracy: 0.8439\n",
      "Epoch 47/100\n",
      "33/33 [==============================] - 0s 8ms/step - loss: 0.3315 - accuracy: 0.8615\n",
      "Epoch 48/100\n",
      "33/33 [==============================] - 0s 8ms/step - loss: 0.3563 - accuracy: 0.8400\n",
      "Epoch 49/100\n",
      "33/33 [==============================] - 0s 7ms/step - loss: 0.3121 - accuracy: 0.8546\n",
      "Epoch 50/100\n",
      "33/33 [==============================] - 0s 9ms/step - loss: 0.3255 - accuracy: 0.8527\n",
      "Epoch 51/100\n",
      "33/33 [==============================] - 0s 6ms/step - loss: 0.3104 - accuracy: 0.8615\n",
      "Epoch 52/100\n",
      "33/33 [==============================] - 0s 7ms/step - loss: 0.3341 - accuracy: 0.8537\n",
      "Epoch 53/100\n",
      "33/33 [==============================] - 0s 7ms/step - loss: 0.3041 - accuracy: 0.8732\n",
      "Epoch 54/100\n",
      "33/33 [==============================] - 0s 9ms/step - loss: 0.3537 - accuracy: 0.8283\n",
      "Epoch 55/100\n",
      "33/33 [==============================] - 0s 7ms/step - loss: 0.3163 - accuracy: 0.8634\n",
      "Epoch 56/100\n",
      "33/33 [==============================] - 0s 9ms/step - loss: 0.3097 - accuracy: 0.8634\n",
      "Epoch 57/100\n",
      "33/33 [==============================] - 0s 8ms/step - loss: 0.4185 - accuracy: 0.8176\n",
      "Epoch 58/100\n",
      "33/33 [==============================] - 0s 8ms/step - loss: 0.3429 - accuracy: 0.8429\n",
      "Epoch 59/100\n",
      "33/33 [==============================] - 0s 5ms/step - loss: 0.3854 - accuracy: 0.8254\n",
      "Epoch 60/100\n",
      "33/33 [==============================] - 0s 7ms/step - loss: 0.3225 - accuracy: 0.8576\n",
      "Epoch 61/100\n",
      "33/33 [==============================] - 0s 10ms/step - loss: 0.3236 - accuracy: 0.8439\n",
      "Epoch 62/100\n",
      "33/33 [==============================] - 0s 10ms/step - loss: 0.3311 - accuracy: 0.8527\n",
      "Epoch 63/100\n",
      "33/33 [==============================] - 0s 6ms/step - loss: 0.3067 - accuracy: 0.8673\n",
      "Epoch 64/100\n",
      "33/33 [==============================] - 0s 6ms/step - loss: 0.2942 - accuracy: 0.8702\n",
      "Epoch 65/100\n",
      "33/33 [==============================] - 0s 6ms/step - loss: 0.2993 - accuracy: 0.8761\n",
      "Epoch 66/100\n",
      "33/33 [==============================] - 0s 9ms/step - loss: 0.3708 - accuracy: 0.8322\n",
      "Epoch 67/100\n",
      "33/33 [==============================] - 0s 13ms/step - loss: 0.3069 - accuracy: 0.8624\n",
      "Epoch 68/100\n",
      "33/33 [==============================] - 0s 11ms/step - loss: 0.3302 - accuracy: 0.8429\n",
      "Epoch 69/100\n",
      "33/33 [==============================] - 0s 8ms/step - loss: 0.3012 - accuracy: 0.8683\n",
      "Epoch 70/100\n",
      "33/33 [==============================] - 0s 15ms/step - loss: 0.3061 - accuracy: 0.8605\n",
      "Epoch 71/100\n",
      "33/33 [==============================] - 0s 9ms/step - loss: 0.3211 - accuracy: 0.8449\n",
      "Epoch 72/100\n",
      "33/33 [==============================] - 1s 17ms/step - loss: 0.2997 - accuracy: 0.8741\n",
      "Epoch 73/100\n",
      "33/33 [==============================] - 1s 15ms/step - loss: 0.3108 - accuracy: 0.8605\n",
      "Epoch 74/100\n",
      "33/33 [==============================] - 0s 8ms/step - loss: 0.3009 - accuracy: 0.8732\n",
      "Epoch 75/100\n",
      "33/33 [==============================] - 0s 8ms/step - loss: 0.2899 - accuracy: 0.8673\n",
      "Epoch 76/100\n",
      "33/33 [==============================] - 0s 7ms/step - loss: 0.2997 - accuracy: 0.8702\n",
      "Epoch 77/100\n",
      "33/33 [==============================] - 0s 7ms/step - loss: 0.3006 - accuracy: 0.8595\n",
      "Epoch 78/100\n",
      "33/33 [==============================] - 0s 7ms/step - loss: 0.2933 - accuracy: 0.8751\n",
      "Epoch 79/100\n",
      "33/33 [==============================] - 0s 7ms/step - loss: 0.3047 - accuracy: 0.8702\n",
      "Epoch 80/100\n",
      "33/33 [==============================] - 0s 12ms/step - loss: 0.3115 - accuracy: 0.8615\n",
      "Epoch 81/100\n",
      "33/33 [==============================] - 0s 12ms/step - loss: 0.3117 - accuracy: 0.8546\n",
      "Epoch 82/100\n",
      "33/33 [==============================] - 0s 12ms/step - loss: 0.3665 - accuracy: 0.8380\n",
      "Epoch 83/100\n",
      "33/33 [==============================] - 0s 8ms/step - loss: 0.3824 - accuracy: 0.8254\n",
      "Epoch 84/100\n",
      "33/33 [==============================] - 0s 7ms/step - loss: 0.3356 - accuracy: 0.8517\n",
      "Epoch 85/100\n",
      "33/33 [==============================] - 0s 6ms/step - loss: 0.3066 - accuracy: 0.8644\n",
      "Epoch 86/100\n",
      "33/33 [==============================] - 0s 7ms/step - loss: 0.3097 - accuracy: 0.8595\n",
      "Epoch 87/100\n",
      "33/33 [==============================] - 0s 6ms/step - loss: 0.3023 - accuracy: 0.8644\n",
      "Epoch 88/100\n",
      "33/33 [==============================] - 0s 8ms/step - loss: 0.3530 - accuracy: 0.8420\n",
      "Epoch 89/100\n",
      "33/33 [==============================] - 0s 8ms/step - loss: 0.3204 - accuracy: 0.8702\n",
      "Epoch 90/100\n",
      "33/33 [==============================] - 0s 10ms/step - loss: 0.3111 - accuracy: 0.8605\n",
      "Epoch 91/100\n",
      "33/33 [==============================] - 0s 8ms/step - loss: 0.2935 - accuracy: 0.8751\n",
      "Epoch 92/100\n",
      "33/33 [==============================] - 0s 7ms/step - loss: 0.3228 - accuracy: 0.8478\n",
      "Epoch 93/100\n",
      "33/33 [==============================] - 0s 8ms/step - loss: 0.2839 - accuracy: 0.8771\n",
      "Epoch 94/100\n",
      "33/33 [==============================] - 0s 7ms/step - loss: 0.2810 - accuracy: 0.8761\n",
      "Epoch 95/100\n",
      "33/33 [==============================] - 0s 6ms/step - loss: 0.2872 - accuracy: 0.8732\n",
      "Epoch 96/100\n",
      "33/33 [==============================] - 0s 10ms/step - loss: 0.2770 - accuracy: 0.8780\n",
      "Epoch 97/100\n",
      "33/33 [==============================] - 0s 6ms/step - loss: 0.2694 - accuracy: 0.8849\n",
      "Epoch 98/100\n",
      "33/33 [==============================] - 0s 6ms/step - loss: 0.4845 - accuracy: 0.7941\n",
      "Epoch 99/100\n",
      "33/33 [==============================] - 0s 10ms/step - loss: 0.3340 - accuracy: 0.8605\n",
      "Epoch 100/100\n",
      "33/33 [==============================] - 0s 8ms/step - loss: 0.3321 - accuracy: 0.8556\n"
     ]
    },
    {
     "data": {
      "text/plain": "<keras.src.callbacks.History at 0x1ec3a1e74d0>"
     },
     "execution_count": 17,
     "metadata": {},
     "output_type": "execute_result"
    }
   ],
   "source": [
    "model.compile(optimizer='adam',\n",
    "              loss='binary_crossentropy',\n",
    "              metrics=['accuracy'])\n",
    "model.fit(x,y, epochs=100)"
   ],
   "metadata": {
    "collapsed": false
   }
  },
  {
   "cell_type": "code",
   "execution_count": 18,
   "outputs": [
    {
     "name": "stdout",
     "output_type": "stream",
     "text": [
      "1/1 [==============================] - 0s 329ms/step\n"
     ]
    },
    {
     "data": {
      "text/plain": "array([[0.8497864]], dtype=float32)"
     },
     "execution_count": 18,
     "metadata": {},
     "output_type": "execute_result"
    }
   ],
   "source": [
    "model.predict([Patient_Data])"
   ],
   "metadata": {
    "collapsed": false
   }
  }
 ],
 "metadata": {
  "kernelspec": {
   "display_name": "Python 3",
   "language": "python",
   "name": "python3"
  },
  "language_info": {
   "codemirror_mode": {
    "name": "ipython",
    "version": 2
   },
   "file_extension": ".py",
   "mimetype": "text/x-python",
   "name": "python",
   "nbconvert_exporter": "python",
   "pygments_lexer": "ipython2",
   "version": "2.7.6"
  }
 },
 "nbformat": 4,
 "nbformat_minor": 0
}
